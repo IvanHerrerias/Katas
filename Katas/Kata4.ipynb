{
 "cells": [
  {
   "cell_type": "markdown",
   "metadata": {},
   "source": [
    "## Transformación de cadenas Python\n",
    "Ejercicios para la tranformación de cadenas y la manipulación de texto con Python"
   ]
  },
  {
   "cell_type": "code",
   "execution_count": 3,
   "metadata": {},
   "outputs": [
    {
     "name": "stdout",
     "output_type": "stream",
     "text": [
      " The Moon is Earth's only satellite\n",
      " \n",
      "On average, the Moon moves 4cm away from the Earth every year\n",
      " The highest daylight temperature of the Moon is 127 C\n",
      " The Moon is Earth's only satellite\n",
      " \n",
      "On average, the Moon moves 4cm away from the Earth every year\n",
      " The highest daylight temperature of the Moon is 127 Celsius\n"
     ]
    }
   ],
   "source": [
    "text = \"\"\"Interesting facts about the Moon. The Moon is Earth's only satellite. There are several interesting facts about the Moon and how it affects life here on Earth. \n",
    "On average, the Moon moves 4cm away from the Earth every year. This yearly drift is not significant enough to cause immediate effects on Earth. The highest daylight temperature of the Moon is 127 C.\"\"\"\n",
    "\n",
    "cadena = text.split('.')\n",
    "\n",
    "keywords = ['average', 'temperature', 'satellite']\n",
    "\n",
    "for oracion in cadena:\n",
    "    for keyword in keywords:\n",
    "        if keyword in oracion:\n",
    "            print(oracion)\n",
    "\n",
    "\n",
    "for oracion in cadena:\n",
    "    for keyword in keywords:\n",
    "        if keyword in oracion:\n",
    "            print(oracion.replace('C','Celsius'))\n",
    "    \n",
    "\n"
   ]
  },
  {
   "cell_type": "markdown",
   "metadata": {},
   "source": [
    "## Trabajo con datos\n"
   ]
  },
  {
   "cell_type": "code",
   "execution_count": 20,
   "metadata": {},
   "outputs": [
    {
     "name": "stdout",
     "output_type": "stream",
     "text": [
      "Datos De Gravedad Sobre Mars\n",
      "--------------------\n",
      "Planet's name: Ganímedes\n",
      "Gravity in Mars: 1.6199999999999999 m/s2\n",
      "\n"
     ]
    }
   ],
   "source": [
    "name = \"Mars\"\n",
    "gravity = 0.00162\n",
    "planet = \"Ganímedes\"\n",
    "\n",
    "title = f'Datos de gravedad sobre {name}'\n",
    "\n",
    "text = f\"\"\"{'-'*20}\n",
    "Planet's name: {planet}\n",
    "Gravity in {name}: {gravity * 1000} m/s2\n",
    "\"\"\"\n",
    "template = f\"\"\"{title.title()}\n",
    "{text}\"\"\"\n",
    "\n",
    "print(template.)\n",
    "\n"
   ]
  }
 ],
 "metadata": {
  "interpreter": {
   "hash": "948d73eb6dfda2e804d788ca8e9f193cc8a7762f6fd3fe59d9c3fe882d54f9f4"
  },
  "kernelspec": {
   "display_name": "Python 3.8.10 ('base')",
   "language": "python",
   "name": "python3"
  },
  "language_info": {
   "codemirror_mode": {
    "name": "ipython",
    "version": 3
   },
   "file_extension": ".py",
   "mimetype": "text/x-python",
   "name": "python",
   "nbconvert_exporter": "python",
   "pygments_lexer": "ipython3",
   "version": "3.8.10"
  },
  "orig_nbformat": 4
 },
 "nbformat": 4,
 "nbformat_minor": 2
}
