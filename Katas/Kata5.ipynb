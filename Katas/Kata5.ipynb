{
 "cells": [
  {
   "cell_type": "markdown",
   "metadata": {},
   "source": [
    "## Manejo de operadores matematicos\n",
    "Ejercicios relacionados con las operaciones basicas de python\n"
   ]
  },
  {
   "cell_type": "code",
   "execution_count": 6,
   "metadata": {},
   "outputs": [
    {
     "name": "stdout",
     "output_type": "stream",
     "text": [
      "628949330 km\n",
      "390577534 mi\n"
     ]
    }
   ],
   "source": [
    "from math import ceil\n",
    "earth = 149597870\n",
    "jupiter = 778547200\n",
    "\n",
    "distance = (earth - jupiter)\n",
    "\n",
    "print(abs(distance), \"km\")\n",
    "\n",
    "distance = distance * 0.621\n",
    "\n",
    "print(ceil(abs(distance)), \"mi\")"
   ]
  },
  {
   "cell_type": "code",
   "execution_count": 6,
   "metadata": {},
   "outputs": [
    {
     "name": "stdout",
     "output_type": "stream",
     "text": [
      "¡Hola! vamos a medir la distancia de los planetas\n",
      "Muy bien, ahora ¿cuál es la distancia entre el sol y el segundo planeta?\n",
      "720700000\n",
      "447554700\n"
     ]
    }
   ],
   "source": [
    "from math import ceil\n",
    "print(\"¡Hola! vamos a medir la distancia de los planetas\")\n",
    "fplanet = int(input(\"Escribe la distancia que hay entre el sol y primer planeta\"))\n",
    "print(\"Muy bien, ahora ¿cuál es la distancia entre el sol y el segundo planeta?\")\n",
    "splanet = int(input(\"Escribe la distancia\"))\n",
    "distanceKm = abs(fplanet - splanet)\n",
    "distanceMi = abs((fplanet - splanet) * 0.621)\n",
    "print(distanceKm)\n",
    "print(ceil(distanceMi))"
   ]
  },
  {
   "cell_type": "code",
   "execution_count": null,
   "metadata": {},
   "outputs": [],
   "source": []
  }
 ],
 "metadata": {
  "interpreter": {
   "hash": "2db524e06e9f5f4ffedc911c917cb75e12dbc923643829bf417064a77eb14d37"
  },
  "kernelspec": {
   "display_name": "Python 3.8.3 64-bit",
   "language": "python",
   "name": "python3"
  },
  "language_info": {
   "codemirror_mode": {
    "name": "ipython",
    "version": 3
   },
   "file_extension": ".py",
   "mimetype": "text/x-python",
   "name": "python",
   "nbconvert_exporter": "python",
   "pygments_lexer": "ipython3",
   "version": "3.8.3"
  },
  "orig_nbformat": 4
 },
 "nbformat": 4,
 "nbformat_minor": 2
}
