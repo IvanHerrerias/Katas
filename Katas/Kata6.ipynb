{
 "cells": [
  {
   "cell_type": "markdown",
   "metadata": {},
   "source": [
    "## Trabajando con listas\n",
    "\n",
    "Ejercicios relacionados a la manipulación de datos dentro de las listas"
   ]
  },
  {
   "cell_type": "markdown",
   "metadata": {},
   "source": [
    "# Ejercicio 1"
   ]
  },
  {
   "cell_type": "code",
   "execution_count": 8,
   "metadata": {},
   "outputs": [
    {
     "name": "stdout",
     "output_type": "stream",
     "text": [
      "['Mercurio', 'Venus', 'Tierra', 'Marte', 'Jupiter', 'Saturno', 'Urano', 'Neptuno']\n",
      "Hay  9  planetas y el último es:  Plutón\n"
     ]
    }
   ],
   "source": [
    "planets = ['Mercurio', 'Venus', 'Tierra', 'Marte', 'Jupiter', 'Saturno', 'Urano', 'Neptuno']\n",
    "print(planets)\n",
    "planets.append('Plutón')\n",
    "print('Hay ', len(planets), ' planetas y el último es: ', planets[-1])"
   ]
  },
  {
   "cell_type": "markdown",
   "metadata": {},
   "source": [
    "# Ejercicio 2"
   ]
  },
  {
   "cell_type": "code",
   "execution_count": 13,
   "metadata": {},
   "outputs": [
    {
     "name": "stdout",
     "output_type": "stream",
     "text": [
      "El planeta que buscas se encuentra en la posición:  3\n",
      "Los planetas más cercanos al sol son:  ['Mercurio', 'Venus']\n",
      "Los planetas más lejanos al sol son:  ['Marte', 'Jupiter', 'Saturno', 'Urano', 'Neptuno']\n"
     ]
    }
   ],
   "source": [
    "planets = ['Mercurio', 'Venus', 'Tierra', 'Marte', 'Jupiter', 'Saturno', 'Urano', 'Neptuno']\n",
    "\n",
    "findPlanet = input(\"Dame el nombre de un planeta, debe comenzar con mayúscula\")\n",
    "\n",
    "pivotPlanet = planets.index(findPlanet) + 1\n",
    "\n",
    "print('El planeta que buscas se encuentra en la posición: ', pivotPlanet)\n",
    "\n",
    "nearPlanets = planets[0:pivotPlanet - 1]\n",
    "\n",
    "farPlanets = planets[pivotPlanet:]\n",
    "\n",
    "print('Los planetas más cercanos al sol son: ', nearPlanets)\n",
    "\n",
    "print('Los planetas más lejanos al sol son: ', farPlanets)"
   ]
  }
 ],
 "metadata": {
  "interpreter": {
   "hash": "a06e30aee820ff8fe24fb428cece021c5cdfc4bd84062afc0eba853e87fef366"
  },
  "kernelspec": {
   "display_name": "Python 3.11.0a5 64-bit",
   "language": "python",
   "name": "python3"
  },
  "language_info": {
   "codemirror_mode": {
    "name": "ipython",
    "version": 3
   },
   "file_extension": ".py",
   "mimetype": "text/x-python",
   "name": "python",
   "nbconvert_exporter": "python",
   "pygments_lexer": "ipython3",
   "version": "3.8.3"
  },
  "orig_nbformat": 4
 },
 "nbformat": 4,
 "nbformat_minor": 2
}
