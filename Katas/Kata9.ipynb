{
 "cells": [
  {
   "cell_type": "markdown",
   "metadata": {},
   "source": [
    "# Funciones"
   ]
  },
  {
   "cell_type": "markdown",
   "metadata": {},
   "source": [
    "### Ejercicio 1"
   ]
  },
  {
   "cell_type": "code",
   "execution_count": 27,
   "metadata": {},
   "outputs": [
    {
     "name": "stdout",
     "output_type": "stream",
     "text": [
      "Promedio de gasolina: 39\n",
      "    Estado de tanques de gasolina \n",
      "    tanque principal se encuentra a 15 % \n",
      "    tanque de reserva se encuentra en 12 % \n",
      "    tanque de reserva #2 se encuentra en 89 %\n"
     ]
    }
   ],
   "source": [
    "from datetime import timedelta, datetime\n",
    "\n",
    "def promedio(value):\n",
    "    total = sum(value)\n",
    "    number_of_items = len(value)\n",
    "    return total / number_of_items\n",
    "\n",
    "def report(tank1, tank2, tank3):\n",
    "    total = promedio([tank1,tank2,tank3])\n",
    "    return f\"\"\"Promedio de gasolina: {round(total)}\n",
    "    Estado de tanques de gasolina \n",
    "    tanque principal se encuentra a {tank1} % \n",
    "    tanque de reserva se encuentra en {tank2} % \n",
    "    tanque de reserva #2 se encuentra en {tank3} %\"\"\"\n",
    "\n",
    "print(report(15,12,89))"
   ]
  },
  {
   "cell_type": "markdown",
   "metadata": {},
   "source": [
    "### Ejercicio 2"
   ]
  },
  {
   "cell_type": "code",
   "execution_count": 44,
   "metadata": {},
   "outputs": [
    {
     "name": "stdout",
     "output_type": "stream",
     "text": [
      "\n",
      "    Destino: Luna\n",
      "    Tiempo estimado: 54 minutos\n",
      "    Gasolina restante: 93089 litros\n",
      "    tanque1 --> 25213 litros restantes \n",
      "    tanque2 --> 67876 litros restantes \n",
      "    \n"
     ]
    }
   ],
   "source": [
    "def reporteMision(destino, *minutos, **gasolina):\n",
    "    reporte = f\"\"\"\n",
    "    Destino: {destino}\n",
    "    Tiempo estimado: {sum(minutos)} minutos\n",
    "    Gasolina restante: {sum(gasolina.values())} litros\n",
    "    \"\"\"\n",
    "    for nombre, gasolina in gasolina.items():\n",
    "        reporte += f\"{nombre} --> {gasolina} litros restantes \\n    \"\n",
    "    return reporte\n",
    "    \n",
    "\n",
    "print(reporteMision(\"Luna\", 12,13,14,15, tanque1=25213, tanque2=67876))"
   ]
  }
 ],
 "metadata": {
  "interpreter": {
   "hash": "2db524e06e9f5f4ffedc911c917cb75e12dbc923643829bf417064a77eb14d37"
  },
  "kernelspec": {
   "display_name": "Python 3.8.3 64-bit",
   "language": "python",
   "name": "python3"
  },
  "language_info": {
   "codemirror_mode": {
    "name": "ipython",
    "version": 3
   },
   "file_extension": ".py",
   "mimetype": "text/x-python",
   "name": "python",
   "nbconvert_exporter": "python",
   "pygments_lexer": "ipython3",
   "version": "3.8.3"
  },
  "orig_nbformat": 4
 },
 "nbformat": 4,
 "nbformat_minor": 2
}
